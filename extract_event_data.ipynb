{
 "cells": [
  {
   "cell_type": "code",
   "execution_count": 1,
   "metadata": {},
   "outputs": [],
   "source": [
    "import pandas as pd\n",
    "import json"
   ]
  },
  {
   "cell_type": "code",
   "execution_count": null,
   "metadata": {},
   "outputs": [],
   "source": [
    "def extract_event_data (event_data):\n",
    "    keys =[]\n",
    "    for i in event_data:\n",
    "    loaded_json=json.loads(i)\n",
    "    for j in list(loaded_json.keys()):\n",
    "        if j not in keys:\n",
    "            keys.append(j)\n",
    "    json_df=pd.DataFrame(index=range(1,df.shape[0]+1),columns=keys)\n",
    "    p=1\n",
    "    for i in event_data:\n",
    "        lj=json.loads(i)\n",
    "        for j in list(lj.keys()):\n",
    "            check_add(j,json_df,lj[j],p)\n",
    "    p=p+1\n",
    "    return json_df"
   ]
  },
  {
   "cell_type": "code",
   "execution_count": null,
   "metadata": {},
   "outputs": [],
   "source": [
    "def check_add(k,df,val,ind):\n",
    "    for i in df.columns:\n",
    "        if k == i:\n",
    "            df[i][ind]=val\n",
    "    return df"
   ]
  }
 ],
 "metadata": {
  "kernelspec": {
   "display_name": "Python 3",
   "language": "python",
   "name": "python3"
  },
  "language_info": {
   "codemirror_mode": {
    "name": "ipython",
    "version": 3
   },
   "file_extension": ".py",
   "mimetype": "text/x-python",
   "name": "python",
   "nbconvert_exporter": "python",
   "pygments_lexer": "ipython3",
   "version": "3.7.3"
  }
 },
 "nbformat": 4,
 "nbformat_minor": 2
}
