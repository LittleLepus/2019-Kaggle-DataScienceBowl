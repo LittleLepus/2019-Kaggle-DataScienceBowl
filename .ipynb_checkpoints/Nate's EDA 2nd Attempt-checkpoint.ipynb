{
 "cells": [
  {
   "cell_type": "code",
   "execution_count": 3,
   "metadata": {},
   "outputs": [],
   "source": [
    "import pandas as pd\n",
    "import numpy as np\n",
    "import json\n",
    "import extract_event_data as extrData"
   ]
  },
  {
   "cell_type": "code",
   "execution_count": 5,
   "metadata": {},
   "outputs": [],
   "source": [
    "# Replace path with path to your train.csv and train_labels.csv\n",
    "train = pd.read_csv('../DSB_DF/train.csv')\n",
    "train_labels = pd.read_csv('../DSB_DF/train_labels.csv')\n"
   ]
  },
  {
   "cell_type": "code",
   "execution_count": 3,
   "metadata": {},
   "outputs": [
    {
     "data": {
      "text/plain": [
       "Chow Time                        1150974\n",
       "Sandcastle Builder (Activity)    1034332\n",
       "Scrub-A-Dub                      1016837\n",
       "Bottle Filler (Activity)         1004068\n",
       "Fireworks (Activity)              535030\n",
       "All Star Sorting                  509344\n",
       "Dino Drink                        492916\n",
       "Bubble Bath                       458972\n",
       "Crystals Rule                     453852\n",
       "Bug Measurer (Activity)           446430\n",
       "Chicken Balancer (Activity)       443156\n",
       "Dino Dive                         427655\n",
       "Pan Balance                       384857\n",
       "Watering Hole (Activity)          369270\n",
       "Flower Waterer (Activity)         356034\n",
       "Happy Camel                       311543\n",
       "Air Show                          306239\n",
       "Leaf Leader                       282104\n",
       "Egg Dropper (Activity)            248408\n",
       "Mushroom Sorter (Assessment)      199595\n",
       "Chest Sorter (Assessment)         190318\n",
       "Bird Measurer (Assessment)        190164\n",
       "Cauldron Filler (Assessment)      181925\n",
       "Cart Balancer (Assessment)        163343\n",
       "Welcome to Lost Lagoon!            23578\n",
       "Magma Peak - Level 2               17115\n",
       "Crystal Caves - Level 2            14342\n",
       "Magma Peak - Level 1               13623\n",
       "Tree Top City - Level 2            12685\n",
       "Crystal Caves - Level 1            12505\n",
       "Crystal Caves - Level 3            12482\n",
       "Tree Top City - Level 1            12333\n",
       "Tree Top City - Level 3            10516\n",
       "Ordering Spheres                    9758\n",
       "Slop Problem                        6974\n",
       "Lifting Heavy Things                5759\n",
       "Balancing Act                       5522\n",
       "Costume Box                         4538\n",
       "Pirate's Tale                       4365\n",
       "12 Monkeys                          4124\n",
       "Honey Cake                          3882\n",
       "Rulers                              3372\n",
       "Heavy, Heavier, Heaviest            3351\n",
       "Treasure Map                        2852\n",
       "Name: title, dtype: int64"
      ]
     },
     "execution_count": 3,
     "metadata": {},
     "output_type": "execute_result"
    }
   ],
   "source": [
    "train['title'].value_counts()"
   ]
  },
  {
   "cell_type": "code",
   "execution_count": 5,
   "metadata": {},
   "outputs": [
    {
     "data": {
      "text/plain": [
       "3071        {\"version\":\"1\",\"round\":0,\"event_count\":1,\"game...\n",
       "3072        {\"coordinates\":{\"x\":683,\"y\":442,\"stage_width\":...\n",
       "3073        {\"movie_id\":\"Intro\",\"duration\":9933,\"descripti...\n",
       "3074        {\"movie_id\":\"Intro\",\"duration\":9933,\"descripti...\n",
       "3075        {\"description\":\"Which container would you like...\n",
       "                                  ...                        \n",
       "11334588    {\"current_containers\":3,\"total_containers\":3,\"...\n",
       "11334589    {\"description\":\"Two.\",\"identifier\":\"Mom_Count2...\n",
       "11334590    {\"coordinates\":{\"x\":526,\"y\":527,\"stage_width\":...\n",
       "11334591    {\"coordinates\":{\"x\":525,\"y\":538,\"stage_width\":...\n",
       "11334592    {\"description\":\"Three. Alright! The tub is ful...\n",
       "Name: event_data, Length: 458972, dtype: object"
      ]
     },
     "execution_count": 5,
     "metadata": {},
     "output_type": "execute_result"
    }
   ],
   "source": [
    "train[train['title']=='Bubble Bath']['event_data']"
   ]
  },
  {
   "cell_type": "code",
   "execution_count": null,
   "metadata": {},
   "outputs": [],
   "source": [
    "event_df=extrData.extract_event_data(train['event_data'])\n",
    "event_df.head()"
   ]
  },
  {
   "cell_type": "code",
   "execution_count": null,
   "metadata": {},
   "outputs": [],
   "source": []
  }
 ],
 "metadata": {
  "kernelspec": {
   "display_name": "Python 3",
   "language": "python",
   "name": "python3"
  },
  "language_info": {
   "codemirror_mode": {
    "name": "ipython",
    "version": 3
   },
   "file_extension": ".py",
   "mimetype": "text/x-python",
   "name": "python",
   "nbconvert_exporter": "python",
   "pygments_lexer": "ipython3",
   "version": "3.7.3"
  }
 },
 "nbformat": 4,
 "nbformat_minor": 2
}
