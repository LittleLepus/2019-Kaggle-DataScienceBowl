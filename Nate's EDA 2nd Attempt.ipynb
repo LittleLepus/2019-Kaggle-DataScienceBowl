{
 "cells": [
  {
   "cell_type": "code",
   "execution_count": 1,
   "metadata": {},
   "outputs": [],
   "source": [
    "import pandas as pd\n",
    "import numpy as np\n",
    "import json\n",
    "import extract_event_data as extrData"
   ]
  },
  {
   "cell_type": "code",
   "execution_count": 2,
   "metadata": {},
   "outputs": [],
   "source": [
    "# Replace path with path to your train.csv and train_labels.csv\n",
    "train = pd.read_csv('../DSB_DF/train.csv')\n",
    "train_labels = pd.read_csv('../DSB_DF/train_labels.csv')\n"
   ]
  },
  {
   "cell_type": "markdown",
   "metadata": {},
   "source": [
    "Create separate dataframes based on event type, specifically, create a separate Game, Assessment, and Activity dataframes"
   ]
  },
  {
   "cell_type": "code",
   "execution_count": null,
   "metadata": {},
   "outputs": [
    {
     "data": {
      "text/plain": [
       "Chow Time           1150974\n",
       "Scrub-A-Dub         1016837\n",
       "All Star Sorting     509344\n",
       "Dino Drink           492916\n",
       "Bubble Bath          458972\n",
       "Crystals Rule        453852\n",
       "Dino Dive            427655\n",
       "Pan Balance          384857\n",
       "Happy Camel          311543\n",
       "Air Show             306239\n",
       "Leaf Leader          282104\n",
       "Name: title, dtype: int64"
      ]
     },
     "execution_count": 3,
     "metadata": {},
     "output_type": "execute_result"
    }
   ],
   "source": [
    "Game_df = train[train['type']=='Game'] \n",
    "#view the list of event titles that are games\n",
    "Game_df['title'].value_counts()"
   ]
  },
  {
   "cell_type": "code",
   "execution_count": null,
   "metadata": {},
   "outputs": [
    {
     "data": {
      "text/plain": [
       "Mushroom Sorter (Assessment)    199595\n",
       "Chest Sorter (Assessment)       190318\n",
       "Bird Measurer (Assessment)      190164\n",
       "Cauldron Filler (Assessment)    181925\n",
       "Cart Balancer (Assessment)      163343\n",
       "Name: title, dtype: int64"
      ]
     },
     "execution_count": 4,
     "metadata": {},
     "output_type": "execute_result"
    }
   ],
   "source": [
    "Assessment_df = train[train['type']=='Assessment']\n",
    "#view the titles that are assessments\n",
    "Assessment_df['title'].value_counts()"
   ]
  },
  {
   "cell_type": "code",
   "execution_count": null,
   "metadata": {},
   "outputs": [
    {
     "data": {
      "text/plain": [
       "Sandcastle Builder (Activity)    1034332\n",
       "Bottle Filler (Activity)         1004068\n",
       "Fireworks (Activity)              535030\n",
       "Bug Measurer (Activity)           446430\n",
       "Chicken Balancer (Activity)       443156\n",
       "Watering Hole (Activity)          369270\n",
       "Flower Waterer (Activity)         356034\n",
       "Egg Dropper (Activity)            248408\n",
       "Name: title, dtype: int64"
      ]
     },
     "execution_count": 5,
     "metadata": {},
     "output_type": "execute_result"
    }
   ],
   "source": [
    "Activity_df = train[train['type']=='Activity']\n",
    "#View the titles that are activities\n",
    "Activity_df['title'].value_counts()"
   ]
  },
  {
   "cell_type": "markdown",
   "metadata": {},
   "source": [
    "Extract Event Data into a separate DataFrame for each event type"
   ]
  },
  {
   "cell_type": "code",
   "execution_count": null,
   "metadata": {},
   "outputs": [],
   "source": [
    "Game_eventData = extrData.extract_event_data(Game_df['event_data'])"
   ]
  },
  {
   "cell_type": "code",
   "execution_count": null,
   "metadata": {},
   "outputs": [],
   "source": []
  }
 ],
 "metadata": {
  "kernelspec": {
   "display_name": "Python 3",
   "language": "python",
   "name": "python3"
  },
  "language_info": {
   "codemirror_mode": {
    "name": "ipython",
    "version": 3
   },
   "file_extension": ".py",
   "mimetype": "text/x-python",
   "name": "python",
   "nbconvert_exporter": "python",
   "pygments_lexer": "ipython3",
   "version": "3.7.3"
  }
 },
 "nbformat": 4,
 "nbformat_minor": 2
}
